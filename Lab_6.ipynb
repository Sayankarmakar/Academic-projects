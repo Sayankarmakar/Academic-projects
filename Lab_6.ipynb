{
  "cells": [
    {
      "cell_type": "markdown",
      "metadata": {
        "id": "zCBOV0AFH1gY"
      },
      "source": [
        "#### Instructions\n",
        "###### Follow the instructions given in comments prefixed with ## and write your code below that.\n",
        "###### Also fill the partial code in given blanks.\n",
        "###### Don't make any changes to the rest part of the codes\n",
        "###### Duetime:1:30 PM"
      ]
    },
    {
      "cell_type": "code",
      "execution_count": null,
      "metadata": {
        "id": "WYhtd15nH1ga"
      },
      "outputs": [],
      "source": [
        "## import cv2\n",
        "## import numpy\n",
        "## import matplotlib pyplot\n",
        "## import KMeans cluster from sklearn\n",
        "## import distance from scipy.spatial\n",
        "from matplotlib.offsetbox import OffsetImage, AnnotationBbox"
      ]
    },
    {
      "cell_type": "markdown",
      "source": [
        "## Face Detection on given image"
      ],
      "metadata": {
        "id": "oIVfZ3YkM3QE"
      }
    },
    {
      "cell_type": "code",
      "execution_count": null,
      "metadata": {
        "id": "BwVBdNr1H1gb"
      },
      "outputs": [],
      "source": [
        "## Reading the image plaksha_Faculty.jpg\n",
        "\n",
        "\n",
        "## Convert the image to grayscale\n",
        "\n",
        "\n",
        "## Loading the required haar-cascade xml classifier file\n",
        "face_cascade = cv2.CascadeClassifier(__________________________________)\n",
        "\n",
        "# Applying the face detection method on the grayscale image.\n",
        "## Change the parameters for better detection of faces in your case.\n",
        "faces_rect = face_cascade.detectMultiScale(gray_img, _______________________________)\n",
        "\n",
        "# Define the text and font parameters\n",
        "text = ____________ ## The text you want to write\n",
        "font = _________________________________  ## Font type\n",
        "font_scale = _________  ## Font scale factor\n",
        "font_color = _____________  ## Text color in BGR format (here, it's red)\n",
        "font_thickness = ________  ## Thickness of the text\n",
        "\n",
        "\n",
        "# Iterating through rectangles of detected faces\n",
        "for (x, y, w, h) in faces_rect:\n",
        "    cv2.rectangle(img, (x, y), (x+w, y+h), (0, 0, 255), 2)\n",
        "    # Use cv2.putText to add the text to the image, Use text, font, font_scale, font_color, font_thickness here\n",
        "    cv2.putText(____________________________________________________________________)\n",
        "\n",
        "## Display the image and window title should be \"Total number of face detected are #\"\n",
        "cv2.imshow(__________________________________________________________)\n",
        "cv2.waitKey(0)\n",
        "cv2.destroyAllWindows()"
      ]
    },
    {
      "cell_type": "markdown",
      "source": [
        "## Visualising images by their hue and saturation features"
      ],
      "metadata": {
        "id": "oao_NxDtNFZg"
      }
    },
    {
      "cell_type": "code",
      "execution_count": null,
      "metadata": {
        "id": "raP8NJB7H1gc"
      },
      "outputs": [],
      "source": [
        "\n",
        "from matplotlib.offsetbox import OffsetImage, AnnotationBbox\n",
        "# Extract face region features (Hue and Saturation)\n",
        "img_hsv = cv2.cvtColor(_________________________) ## call the img and convert it from BGR to HSV and store in img_hsv\n",
        "hue_saturation = []\n",
        "face_images = []  # To store detected face images\n",
        "\n",
        "for (x, y, w, h) in faces_rect:\n",
        "    face = img_hsv[y:y + h, x:x + w]\n",
        "    hue =   ___  ## extract mean hue for the face\n",
        "    saturation =  ___ ## extract mean saturation for the face\n",
        "    hue_saturation.append((hue, saturation))\n",
        "    face_images.append(face)\n",
        "\n",
        "hue_saturation = np.array(hue_saturation)\n",
        "\n",
        "# Create a figure and axis\n",
        "fig, ax = plt.subplots(figsize=(12, 6))\n",
        "\n",
        "# Plot the clustered faces with custom markers\n",
        "for i, (x,y,w,h ) in enumerate(faces_rect):\n",
        "    im = OffsetImage(cv2.cvtColor(cv2.resize(face_images[i], (20, 20)), cv2.COLOR_HSV2RGB))\n",
        "    ab = AnnotationBbox(im, (hue_saturation[i, 0], hue_saturation[i, 1]), frameon=False, pad=0)\n",
        "    ax.add_artist(ab)\n",
        "    plt.plot(hue_saturation[i, 0], hue_saturation[i, 1])\n",
        "\n",
        "\n",
        "## Put x label\n",
        "## Put y label\n",
        "## Put title\n",
        "## Put grid\n",
        "## show the plot"
      ]
    },
    {
      "cell_type": "markdown",
      "source": [
        "## Assign class labels to each face using kmeans. Visualise the clusters formed"
      ],
      "metadata": {
        "id": "Kli34ulBNxVg"
      }
    },
    {
      "cell_type": "code",
      "execution_count": null,
      "metadata": {
        "id": "5oA6BkfLH1gc"
      },
      "outputs": [],
      "source": [
        "## Perform k-Means clustering on hue_saturation and store in kmeans\n",
        "kmeans = ___________________________________________________\n",
        "#centroids = kmeans.cluster_centers_\n",
        "#labels = kmeans.labels_\n",
        "\n",
        "# Create an empty list to store legend labels\n",
        "legend_labels = []\n",
        "\n",
        "# Create lists to store points for each cluster\n",
        "cluster_0_points = []\n",
        "cluster_1_points = []\n",
        "\n",
        "# Collect points for cluster plot\n",
        "fig, ax = plt.subplots(figsize=(12, 6))\n",
        "for i, (x, y, w, h) in enumerate(faces_rect):\n",
        "    if kmeans.labels_[i] == 0:\n",
        "        cluster_0_points.append((hue_saturation[i, 0], hue_saturation[i, 1]))\n",
        "    else:\n",
        "        cluster_1_points.append((hue_saturation[i, 0], hue_saturation[i, 1]))\n",
        "\n",
        "\n",
        "cluster_0_points = np.array(cluster_0_points)\n",
        "## Plot points for cluster 0 in green\n",
        "plt.scatter(______________________________________________________________________________)\n",
        "\n",
        "\n",
        "cluster_1_points = np.array(cluster_1_points)\n",
        "## Plot points for cluster 1 in blue\n",
        "plt.scatter(_______________________________________________________________________________)\n",
        "\n",
        "## Calculate and plot centroids\n",
        "centroid_0 = _________________________________________\n",
        "centroid_1 = _________________________________________\n",
        "\n",
        "# Plot both the centroid for cluster 0 and cluster 1\n",
        "plt.scatter(____________________________________________________________________________________)\n",
        "plt.scatter(____________________________________________________________________________________)\n",
        "\n",
        "## Put x label\n",
        "## Put y label\n",
        "## Put title\n",
        "## Add a legend\n",
        "## Add grid\n",
        "## Show the plot\n"
      ]
    },
    {
      "cell_type": "markdown",
      "source": [
        "## Face detection on shashi tharoor"
      ],
      "metadata": {
        "id": "urj-ueP_N9op"
      }
    },
    {
      "cell_type": "code",
      "execution_count": null,
      "metadata": {
        "id": "Y2xsYWzYH1gd"
      },
      "outputs": [],
      "source": [
        "## Read the class of the template image 'Dr_Shashi_Tharoor.jpg' using cv2 and store it in template_img\n",
        "template_img = _____________________________________________\n",
        "# Detect face  in the template image after converting it to gray and store it in template_faces\n",
        "template_faces = ___________________________________________________________________________________________\n",
        "# Draw rectangles around the detected faces\n",
        "for (x, y, w, h) in template_faces:\n",
        "    cv2.rectangle(template_img, (x, y), (x + w, y + h), (0, 255, 0), 3)\n",
        "cv2.imshow(_____________________________________________________)\n",
        "cv2.waitKey(0)\n",
        "cv2.destroyAllWindows()"
      ]
    },
    {
      "cell_type": "markdown",
      "source": [
        "## Plot template image along with other images"
      ],
      "metadata": {
        "id": "dJNX1-7COBBP"
      }
    },
    {
      "cell_type": "code",
      "execution_count": null,
      "metadata": {
        "id": "rEKy7kJ5H1gd"
      },
      "outputs": [],
      "source": [
        "# Convert the template image to HSV color space and store it in template_hsv\n",
        "template_hsv = __________________________________________________\n",
        "\n",
        "# Extract hue and saturation features from the template image as we did it for detected faces.\n",
        "template_hue = ____________________________________________________\n",
        "template_saturation = _________________________________________________\n",
        "\n",
        "# Create a figure and axis for visualization\n",
        "fig, ax = plt.subplots(figsize=(12, 6))\n",
        "\n",
        "# Plot the clustered faces, along with the template face\n",
        "for i, (x, y, w, h) in enumerate(faces_rect):\n",
        "    color = 'red' if kmeans.labels_[i] == 0 else 'blue'\n",
        "    im = OffsetImage(cv2.cvtColor(cv2.resize(face_images[i], (20, 20)), cv2.COLOR_HSV2RGB))\n",
        "    ab = AnnotationBbox(im, (hue_saturation[i, 0], hue_saturation[i, 1]), frameon=False, pad=0)\n",
        "    ax.add_artist(ab)\n",
        "    plt.plot(hue_saturation[i, 0], hue_saturation[i, 1], 'o', markersize=5, color=color)\n",
        "\n",
        "# Plot the template image\n",
        "im = OffsetImage(cv2.cvtColor(cv2.resize(template_img, (20, 20)), cv2.COLOR_BGR2RGB))\n",
        "ab = AnnotationBbox(im, (template_hue, template_saturation), frameon=False, pad=0)\n",
        "ax.add_artist(ab)\n",
        "\n",
        "## Put x label\n",
        "## Put y label\n",
        "## Put title\n",
        "## Add grid\n",
        "## show plot"
      ]
    },
    {
      "cell_type": "markdown",
      "source": [
        "## Perform classification on new image using distance from clusters. Visualise the clusters."
      ],
      "metadata": {
        "id": "yvSydOUSOG3R"
      }
    },
    {
      "cell_type": "code",
      "execution_count": null,
      "metadata": {
        "id": "3LSwo4tuH1gd"
      },
      "outputs": [],
      "source": [
        "## Find distance for new image from each cluster.\n",
        "## Predict the cluster label for the template image and store it in template_label.\n",
        "template_label = _________________________________________________________\n",
        "\n",
        "# Create lists to store points for each cluster\n",
        "cluster_0_points = []\n",
        "cluster_1_points = []\n",
        "\n",
        "fig, ax = plt.subplots(figsize=(12, 6))\n",
        "for i, (x, y, w, h) in enumerate(faces_rect):\n",
        "    if kmeans.labels_[i] == 0:\n",
        "        cluster_0_points.append((hue_saturation[i, 0], hue_saturation[i, 1]))\n",
        "    else:\n",
        "        cluster_1_points.append((hue_saturation[i, 0], hue_saturation[i, 1]))\n",
        "\n",
        "# Plot points for cluster 0 in green\n",
        "cluster_0_points = np.array(cluster_0_points)\n",
        "plt.scatter(_______________________________________________________________________________)\n",
        "\n",
        "# Plot points for cluster 1 in blue\n",
        "cluster_1_points = np.array(cluster_1_points)\n",
        "plt.scatter(________________________________________________________________________________)\n",
        "\n",
        "\n",
        "# Assign color to the template image based on class label\n",
        "if template_label == 0:\n",
        "    color = 'red'\n",
        "else:\n",
        "    color = 'blue'\n",
        "\n",
        "# Calculate and plot centroids for both the clusters\n",
        "centroid_0 = __________________________________________________\n",
        "centroid_1 = __________________________________________________\n",
        "plt.scatter(____________________________________________________________ _________________) ## plot for centroid 0\n",
        "plt.scatter(_____________________________________________________________________________)  ## plot for centroid 1\n",
        "# Plot the template image's position with appropriate class color\n",
        "plt.plot(template_hue, template_saturation, marker='o', c= color,markersize= 10)\n",
        "\n",
        "## Put x label\n",
        "## Put y label\n",
        "## Put title\n",
        "## Add a legend\n",
        "## Add grid\n",
        "## show the plot\n",
        "                                            ## End of the lab 5 ##"
      ]
    }
  ],
  "metadata": {
    "kernelspec": {
      "display_name": "Python 3",
      "language": "python",
      "name": "python3"
    },
    "language_info": {
      "codemirror_mode": {
        "name": "ipython",
        "version": 3
      },
      "file_extension": ".py",
      "mimetype": "text/x-python",
      "name": "python",
      "nbconvert_exporter": "python",
      "pygments_lexer": "ipython3",
      "version": "3.10.11"
    },
    "orig_nbformat": 4,
    "colab": {
      "provenance": []
    }
  },
  "nbformat": 4,
  "nbformat_minor": 0
}