{
  "cells": [
    {
      "cell_type": "markdown",
      "metadata": {
        "id": "ExyLx0tv86bH"
      },
      "source": [
        "### Instructions:\n",
        "* You need to code in this jupyter notebook only.\n",
        "* Download this notebook and import in your jupyter lab.\n",
        "* You need to write a partial code for step 0 to step 8 mentioned with prefix ##\n",
        "* Fill the blanks where it is instructed in comments.\n",
        "* Leave other codes, structure as it is.\n",
        "* Follow all the instructions commented in a cells.\n",
        "* Upload this jupyter notebook after completion with your partial code.\n",
        "* Also upload the resulting image showing all the selected points and boundary line between them after LDA analysis."
      ]
    },
    {
      "cell_type": "code",
      "execution_count": 8,
      "metadata": {
        "id": "7D2fNCbm86bL"
      },
      "outputs": [],
      "source": [
        "import numpy as np ## import numpy\n",
        "import cv2 ## import opencv\n",
        "import matplotlib ## import matplotlib\n",
        "import matplotlib.pyplot as plt ## import matplotlib pyplot\n",
        "from sklearn.discriminant_analysis import LinearDiscriminantAnalysis as LDA ## from sklearn import LDA analysis\n",
        "matplotlib.use('TkAgg')\n",
        "\n",
        "##---------------------------------------------------\n",
        "## Step 0: Install all other dependencies that occue at run time if  any module not found.\n",
        "##---------------------------------------------------"
      ]
    },
    {
      "cell_type": "code",
      "execution_count": 9,
      "metadata": {},
      "outputs": [],
      "source": [
        "Number_of_points = 5 ## Number of points you want select from each strip. Recommended >= 20\n",
        "\n",
        "image = plt.imread(r'C:\\Users\\User\\Downloads\\Indian_Flag.jpg') ## Read the given image\n",
        "imagemat=np.array(image)\n",
        "plt.imshow(imagemat)\n",
        "plt.show()"
      ]
    },
    {
      "cell_type": "code",
      "execution_count": 10,
      "metadata": {
        "id": "hB2eaFO-86bM"
      },
      "outputs": [],
      "source": [
        "\n",
        "def select_points(img, title):\n",
        "    fig, ax = plt.subplots()\n",
        "    #------------------------------------------\n",
        "    ## step 1: Convert the img from BGR to RGB using cv2 and display it using plt.imshow\n",
        "    img=cv2.cvtColor(img,cv2.COLOR_BGR2RGB)\n",
        "    ## step 2: Put title of the image\n",
        "    plt.imshow(img)\n",
        "    plt.title('Indian Flag')\n",
        "\n",
        "    # Set the cursor style to a plus sign\n",
        "    fig.canvas.manager.set_window_title('Select Points')\n",
        "    cursor = matplotlib.widgets.Cursor(ax, useblit=True, color='red', linewidth=1)\n",
        "    plt.show(block=False)  # Show the image without blocking\n",
        "\n",
        "    k = 0\n",
        "    points=[] ## Create here an empty list to store points\n",
        "\n",
        "    while k < Number_of_points:\n",
        "        xy = plt.ginput(1, timeout=0)  # Non-blocking input\n",
        "        if len(xy) > 0:\n",
        "            col, row = map(int, xy[0])  # Convert to integer\n",
        "            ##-----------------------------------------------\n",
        "            ## Step 3: Collect RGB values at the clicked positions (col, row) and print it.\n",
        "            print(f'Position:({row},{col}) RGB:{img[row,col]}')\n",
        "\n",
        "            k += 1\n",
        "            points.append([row, col, img[row, col]])  # Store RGB values in empty list points.\n",
        "\n",
        "            # Display colored dot on the image\n",
        "            plt.scatter(col, row, c='black', marker='.', s=10)\n",
        "\n",
        "            # Redraw the image to include the dot\n",
        "            plt.draw()\n",
        "\n",
        "    plt.close()  # Close the window after all points are collected\n",
        "    return points ## Fill this blank"
      ]
    },
    {
      "cell_type": "code",
      "execution_count": 11,
      "metadata": {
        "id": "sHaejxBq86bM"
      },
      "outputs": [
        {
          "name": "stdout",
          "output_type": "stream",
          "text": [
            "Position:(285,541) RGB:[ 21  88 245]\n",
            "Position:(285,572) RGB:[  9  79 240]\n",
            "Position:(280,601) RGB:[ 17  86 249]\n",
            "Position:(275,640) RGB:[  9  80 247]\n",
            "Position:(280,623) RGB:[ 15  83 248]\n",
            "Position:(328,534) RGB:[225 214 217]\n",
            "Position:(306,534) RGB:[230 215 219]\n",
            "Position:(338,575) RGB:[235 222 224]\n",
            "Position:(321,652) RGB:[236 218 219]\n",
            "Position:(311,638) RGB:[231 217 218]\n",
            "Position:(345,558) RGB:[73 96 34]\n",
            "Position:(355,531) RGB:[71 99 29]\n",
            "Position:(369,577) RGB:[ 71 103  32]\n",
            "Position:(367,601) RGB:[64 92 23]\n",
            "Position:(355,635) RGB:[65 91 27]\n"
          ]
        }
      ],
      "source": [
        "##-----------------------------------------------------------------\n",
        "## Step4: fill the blanks for Selected points from saffron strip\n",
        "pts_saffron = select_points(imagemat,'select points from saffron strip')\n",
        "## Step5: fill the blanks for Selected points from white strip)\n",
        "pts_white = select_points(imagemat,'select points from white strip')\n",
        "## Step6: fill the blanks for Selected points from green strip\n",
        "pts_green = select_points(imagemat,'select points from green strip')\n",
        "##-----------------------------------------------------------------"
      ]
    },
    {
      "cell_type": "code",
      "execution_count": 12,
      "metadata": {
        "id": "_80F-YqI86bM"
      },
      "outputs": [],
      "source": [
        "# Convert RGB values to Lab color space\n",
        "def rgb_to_lab(rgb):\n",
        "    return cv2.cvtColor(np.uint8([[rgb]]), cv2.COLOR_RGB2Lab)[0][0]\n",
        "\n",
        "saffron_lab = np.array([rgb_to_lab(rgb) for _, _, rgb in pts_saffron])\n",
        "white_lab = np.array([rgb_to_lab(rgb) for _, _, rgb in pts_white])\n",
        "green_lab = np.array([rgb_to_lab(rgb) for _, _, rgb in pts_green])\n",
        "\n",
        "## Step7: Extract a* and b* components from Lab color space\n",
        "a_features = np.hstack((saffron_lab[:,1], white_lab[:,1],green_lab[:,1]))\n",
        "b_features = np.hstack((saffron_lab[:,2], white_lab[:,2],green_lab[:,2]))"
      ]
    },
    {
      "cell_type": "code",
      "execution_count": 14,
      "metadata": {
        "id": "Fwa7wmAU86bN"
      },
      "outputs": [],
      "source": [
        "# Map class labels to numeric values\n",
        "class_mapping = {'Saffron': 0, 'White': 1, 'Green': 2}\n",
        "y = np.array([class_mapping[label] for label in ['Saffron'] * Number_of_points + ['White'] * Number_of_points + ['Green'] * Number_of_points])\n",
        "\n",
        "plt.figure()\n",
        "plt.scatter(a_features[:Number_of_points], b_features[:Number_of_points], c='r', marker='o', s=50, label='Saffron')\n",
        "plt.scatter(a_features[Number_of_points:2*Number_of_points], b_features[Number_of_points:2*Number_of_points], c='b', marker='^', s=50, label='White')\n",
        "plt.scatter(a_features[2*Number_of_points:], b_features[2*Number_of_points:], c='g', marker='*', s=50, label='Green')\n",
        "plt.legend(['Saffron', 'White', 'Green'], loc='best')\n",
        "plt.xlabel('a* features')  ## Provide x label\n",
        "plt.ylabel('b* features') ## Provide y label\n",
        "plt.title('Lab color space features') ## Provide title\n",
        "plt.grid()\n",
        "plt.show()\n",
        "\n",
        "##------------------------------------------------------------\n",
        "# Step 8: Perform LDA analysis using LinearDiscriminantAnalysis() and lda.fit()\n",
        "\n",
        "feature=np.column_stack((a_features,b_features))\n",
        "lda=LDA().fit(feature,y)\n",
        "##-----------------------------------------------------------\n",
        "\n"
      ]
    },
    {
      "cell_type": "code",
      "execution_count": 16,
      "metadata": {
        "id": "V1xduOxi86bN"
      },
      "outputs": [],
      "source": [
        "# Plot LDA boundaries\n",
        "plt.figure()\n",
        "plt.scatter(a_features[:Number_of_points], b_features[:Number_of_points], c='r', marker='o', s=50, label='Saffron')\n",
        "plt.scatter(a_features[Number_of_points:2*Number_of_points], b_features[Number_of_points:2*Number_of_points], c='b', marker='^', s=50, label='White')\n",
        "plt.scatter(a_features[2*Number_of_points:], b_features[2*Number_of_points:], c='g', marker='*', s=50, label='Green')\n",
        "\n",
        "plt.xlabel('a* features')  ## Provide x label\n",
        "plt.ylabel('b* features') ## Provide y label\n",
        "plt.title('LDA boundaries (linear model) for Colors of the Indian Flag')\n",
        "\n",
        "# Plot the decision boundaries\n",
        "ax = plt.gca()\n",
        "xlim = ax.get_xlim()\n",
        "ylim = ax.get_ylim()\n",
        "\n",
        "xx, yy = np.meshgrid(np.linspace(xlim[0], xlim[1], 100), np.linspace(ylim[0], ylim[1], 100))\n",
        "Z = lda.predict(np.c_[xx.ravel(), yy.ravel()])\n",
        "Z = Z.reshape(xx.shape)\n",
        "\n",
        "plt.contour(xx, yy, Z, colors='k', linewidths=2, linestyles='solid')\n",
        "plt.legend(loc='best')\n",
        "plt.grid()\n",
        "plt.show()"
      ]
    },
    {
      "cell_type": "code",
      "execution_count": null,
      "metadata": {},
      "outputs": [],
      "source": []
    }
  ],
  "metadata": {
    "colab": {
      "provenance": []
    },
    "kernelspec": {
      "display_name": "Python 3",
      "language": "python",
      "name": "python3"
    },
    "language_info": {
      "codemirror_mode": {
        "name": "ipython",
        "version": 3
      },
      "file_extension": ".py",
      "mimetype": "text/x-python",
      "name": "python",
      "nbconvert_exporter": "python",
      "pygments_lexer": "ipython3",
      "version": "3.11.6"
    },
    "orig_nbformat": 4
  },
  "nbformat": 4,
  "nbformat_minor": 0
}
